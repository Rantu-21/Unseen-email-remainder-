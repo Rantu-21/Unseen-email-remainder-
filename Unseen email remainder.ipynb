{
 "cells": [
  {
   "cell_type": "code",
   "execution_count": 3,
   "metadata": {},
   "outputs": [],
   "source": [
    "import time\n",
    "from plyer import notification\n",
    "import imaplib\n",
    "\n",
    "obj = imaplib.IMAP4_SSL('imap.gmail.com','993')\n",
    "obj.login(\"rontudas2001@gmail.com\", app_password)   #you have to give your email app password as a string in app_password \n",
    "\n",
    "#How to create an app password for Gmail :-\n",
    "\n",
    "#1. Login to Gmail.\n",
    "#2. Click on Manage your Google Account by clicking on the profile icon on the top right.\n",
    "#3. Click on Security from the left list.\n",
    "#4. Click on App passwords on the security page (Signing into Google Section). It'll ask for a google password to log in again.\n",
    "#5. There will be two dropdowns to select (Select app and Select device). Select Other option for both dropdowns. It'll ask you to give the name of the app. Give the app the name that you like (Ex - SMTP Tutorial). If you had previously created some app then they will be shown in the list along with the last date when you last used it. You can delete old apps from here if you are not using them anymore.\n",
    "#6. Click on Generate and it'll open a window where a temporary password (16 characters) will be displayed.\n",
    "\n",
    "if __name__ == \"__main__\":\n",
    "    while True:\n",
    "        obj.select(readonly=1)\n",
    "        (retcode, messages) = obj.search(None, '(UNSEEN)') #return the unique identity of unseen msg in the messages\n",
    "        convert = str(messages)\n",
    "        count=0\n",
    "        for i in convert.split(\" \"):\n",
    "            count += 1\n",
    "        msg = \"Your email contains \" + str(count) + \" unseen emails!!!\"\n",
    "        print(msg)\n",
    "        notification.notify(\n",
    "            title = \"***Please check your email now!!!***\",\n",
    "            message =  msg,\n",
    "            app_icon = None,   #here you have to give the path of icon location \n",
    "            timeout= 10        #Notification will stay 10 seconds\n",
    "            \n",
    "        )\n",
    "        time.sleep(24*60*60)   #Give notification afetr 24 hours "
   ]
  },
  {
   "cell_type": "code",
   "execution_count": null,
   "metadata": {},
   "outputs": [],
   "source": []
  }
 ],
 "metadata": {
  "kernelspec": {
   "display_name": "Python 3",
   "language": "python",
   "name": "python3"
  },
  "language_info": {
   "codemirror_mode": {
    "name": "ipython",
    "version": 3
   },
   "file_extension": ".py",
   "mimetype": "text/x-python",
   "name": "python",
   "nbconvert_exporter": "python",
   "pygments_lexer": "ipython3",
   "version": "3.7.6"
  }
 },
 "nbformat": 4,
 "nbformat_minor": 4
}
